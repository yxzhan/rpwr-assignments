{
 "cells": [
  {
   "cell_type": "markdown",
   "id": "560f5f7c-d645-47a9-b73a-21913d193b38",
   "metadata": {},
   "source": [
    "# Assignment 3 - ROS\n",
    "\n",
    "*8 points*\n",
    "\n",
    "## Setting up your own TurtleSim\n",
    "\n",
    "In this assignment you will set up the system yourself so that you have your own extensible 3D TurtleSim in Rvizweb. You will learn how to work with ROS and what automations and tools ROS offers. At the end you should come out with a tutorial or a program through which everything necessary will be started."
   ]
  },
  {
   "cell_type": "markdown",
   "id": "93ac4281-cc0c-43a3-b162-c893eaa337d2",
   "metadata": {
    "tags": []
   },
   "source": [
    "## ROS tutorials\n",
    "\n",
    "Work through the beginner tutorial: https://wiki.ros.org/ROS/Tutorials\n",
    "\n",
    "Interesting are the chapters 1 to 8, 12 and 15.\n",
    "\n",
    "Because we visualize via rvizweb, some conflicts with the tutorial arise.\n",
    " - Chapter 6 Understanding ROS Topics - Setup\n",
    "```bash\n",
    "roslaunch turtle_tf turtle_tf_demo.launch\n",
    "# and set up Rvizweb\n",
    "```\n",
    "- Chapter 6 Understanding ROS Topics - rqt_graph\n",
    "```bash\n",
    "# Use RosGraph instead of rqt_graph. You can find RosGraph in the JupyterLab-Launcher.\n",
    "```\n",
    "\n",
    "- Chapter 6 Understanding ROS Topics - rqt_plot\n",
    "```bash\n",
    "# Skip. rqt_plot isn't implemented in this binder. If you have ROS installed on your computer, you are free to test it\n",
    "```\n",
    "\n",
    "- Chapter 7 Understanding ROS Services and Parameters - Services\n",
    "```bash\n",
    "# turtlesim /spawn service doesnt work without tf in Rvizweb. Additional to spawning, start the tf broadcaster:\n",
    "rosservice call /spawn 2 2 0.2 \"turtle3\"\n",
    "rosrun turtle_tf turtle_tf_broadcaster turtle3\n",
    "```\n",
    "\n",
    "- Chapter 8 Using rqt_console and roslaunch - rqt_console\n",
    "```bash\n",
    "# Skip rqt_console.\n",
    "```\n",
    "\n",
    "If you have any further problems, please feel free to ask questions via email or discord."
   ]
  },
  {
   "cell_type": "markdown",
   "id": "1b7ca26a-447f-4b9c-af90-1afc5adb691c",
   "metadata": {
    "tags": []
   },
   "source": [
    "## TF tutorials\n",
    "\n",
    "Work through the python tutorial: https://wiki.ros.org/tf/Tutorials\n",
    "\n",
    "Important are the chapters:\n",
    "- Writing a tf broadcaster (Python)\n",
    "- Writing a tf listener (Python)\n",
    "- Adding a frame (Python)\n",
    "\n",
    "### Hint\n",
    "```python\n",
    "import roslib\n",
    "roslib.load_manifest('learning_tf')\n",
    "```\n",
    "is not required and should be removed."
   ]
  },
  {
   "cell_type": "markdown",
   "id": "f8445bf6-62d2-4b2a-9da6-2633436a02da",
   "metadata": {
    "tags": []
   },
   "source": [
    "## Tasks"
   ]
  },
  {
   "cell_type": "markdown",
   "id": "9ceec166-d7bd-4532-9856-eeb71813af38",
   "metadata": {},
   "source": [
    "### Task 1 - ROS package\n",
    "\n",
    "Create your own ROS package called `turtle_party`. Your solution for task 2 goes in here. Additionally create the launchfile `turtles_gone_wild.launch` that starts all required files and ROS commands with the command `roslaunch turtle_party turtles_gone_wild.launch`."
   ]
  },
  {
   "cell_type": "markdown",
   "id": "e1a0622c-d0d5-4081-8060-82107ca347a5",
   "metadata": {
    "tags": []
   },
   "source": [
    "### Task 2 - Turtle party\n",
    "\n",
    "Create your own turtle party in Rvizweb. Multiple turtles are spawned and are named `turtle1`, `turtle2`, `turtle3` etc. Each turtle should follow its predecessor, i.e. `turtle2` follows `turtle1`. Because `turtle1` has no predecessor, he should move to randomly generated positions. The number of turtles `amount` are passed by roslaunch command line arguments, like: \n",
    "\n",
    "`roslaunch turtle_party turtles_gone_wild.launch amount:=value` \n",
    "\n",
    "The grid and the area in which the robots can move are not centered by default in Rvizweb. Execute a static transform so that the grid is centered to the movement area.\n",
    "\n",
    "#### Hints\n",
    "\n",
    "You will need:\n",
    "\n",
    "- a TF Broadcaster,\n",
    "- a TF listener, \n",
    "- a static frame, translating the world frame in map.\n",
    "\n",
    "You can use the code of the ROS and TF tutorials and your own code from assignment 2 to visualize the turtles.\n",
    "\n",
    "\n",
    "When JupyterLab is started, you are already in a ROS package. The package is called pycram. All launch files and executables are found by ROS and can be executed via terminal. \n",
    "\n",
    "To change the directory to your ROS package execute `roscd turtle_party` in the terminal."
   ]
  },
  {
   "cell_type": "markdown",
   "id": "1a995be8-46f4-47bf-a9b6-f1149a88082a",
   "metadata": {},
   "source": [
    "### Solution\n",
    "\n",
    "After you have finished this assignment, zip your ROS package `turtle_party` as `turtle_party.zip` and push it to your git repo as the solution."
   ]
  }
 ],
 "metadata": {
  "kernelspec": {
   "display_name": "Python 3 (ipykernel)",
   "language": "python",
   "name": "python3"
  },
  "language_info": {
   "codemirror_mode": {
    "name": "ipython",
    "version": 3
   },
   "file_extension": ".py",
   "mimetype": "text/x-python",
   "name": "python",
   "nbconvert_exporter": "python",
   "pygments_lexer": "ipython3",
   "version": "3.10.6"
  }
 },
 "nbformat": 4,
 "nbformat_minor": 5
}
