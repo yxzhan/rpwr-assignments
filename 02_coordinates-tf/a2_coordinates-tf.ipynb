{
 "cells": [
  {
   "cell_type": "markdown",
   "id": "560f5f7c-d645-47a9-b73a-21913d193b38",
   "metadata": {},
   "source": [
    "# Assignment 2 - Coordinates & Transforms\n",
    "*8 points*\n",
    "\n",
    "## Build your Turtlebot\n",
    "\n",
    "Build the TortugaBot with Visualization Markers\n",
    "\n",
    "Open Rviz. Set Global options > Fixed frame to `/world`\n",
    "\n",
    "Add Markers (or MarkerArray and publish to /pycram/viz_marker)\n",
    "\n",
    "```bash\n",
    "roslaunch turtle_tf turtle_tf_demo.launch\n",
    "```\n",
    "Move turtle with arrow keys in the terminal\n",
    "\n",
    "Execute the below python code blocks to publish arrow on the turtle1 frame\n",
    "\n",
    "https://wiki.ros.org/rviz/DisplayTypes/Marker\n"
   ]
  },
  {
   "cell_type": "markdown",
   "id": "f1ae606f-60dd-4703-bd70-58808bdb1331",
   "metadata": {},
   "source": [
    "## Example: How to publish markers"
   ]
  },
  {
   "cell_type": "code",
   "execution_count": null,
   "id": "62c564c6-1b5e-443f-9444-119cd138089d",
   "metadata": {},
   "outputs": [],
   "source": [
    "import rospy\n",
    "from visualization_msgs.msg import Marker, MarkerArray"
   ]
  },
  {
   "cell_type": "code",
   "execution_count": null,
   "id": "7b878ea0-30ac-46ea-99d4-3bdc2610afab",
   "metadata": {},
   "outputs": [],
   "source": [
    "rospy.init_node('rviz_marker')\n",
    "rate = rospy.Rate(5)"
   ]
  },
  {
   "cell_type": "code",
   "execution_count": null,
   "id": "6c2448d1-bfd6-474a-95ab-59c8e0b9941e",
   "metadata": {
    "tags": []
   },
   "outputs": [],
   "source": [
    "marker = Marker()\n",
    "\n",
    "marker.header.frame_id = \"turtle1\"\n",
    "marker.header.stamp = rospy.Time.now()\n",
    "\n",
    "# set shape, Arrow: 0; Cube: 1 ; Sphere: 2 ; Cylinder: 3\n",
    "marker.type = 0\n",
    "marker.id = 0\n",
    "\n",
    "# Set the scale of the marker\n",
    "marker.scale.x = 1.0\n",
    "marker.scale.y = 0.5\n",
    "marker.scale.z = 0.5\n",
    "\n",
    "# Set the color\n",
    "marker.color.r = 1.0\n",
    "marker.color.g = 0.0\n",
    "marker.color.b = 0.0\n",
    "marker.color.a = 1.0\n",
    "\n",
    "# Set the pose of the marker\n",
    "marker.pose.position.x = 1\n",
    "marker.pose.position.y = 0\n",
    "marker.pose.position.z = 0\n",
    "marker.pose.orientation.x = 0.0\n",
    "marker.pose.orientation.y = 0.0\n",
    "marker.pose.orientation.z = 0.0\n",
    "marker.pose.orientation.w = 1.0"
   ]
  },
  {
   "cell_type": "code",
   "execution_count": null,
   "id": "c9d2651e-51e9-4fe5-a4c7-0d8a46d464e6",
   "metadata": {
    "tags": []
   },
   "outputs": [],
   "source": [
    "marker_pub = rospy.Publisher(\"/visualization_marker\", Marker, queue_size = 2)"
   ]
  },
  {
   "cell_type": "code",
   "execution_count": null,
   "id": "3db42344-1ef7-4ca2-8bb8-850f0e2730d4",
   "metadata": {
    "tags": []
   },
   "outputs": [],
   "source": [
    "marker_pub.publish(marker)"
   ]
  },
  {
   "cell_type": "markdown",
   "id": "1aa6f759-4759-435a-a59b-a254ffb7ea0b",
   "metadata": {},
   "source": [
    "Call ``sleep`` between multiple ``publish(marker)``. Otherwise, subsequent markers might not be published."
   ]
  },
  {
   "cell_type": "code",
   "execution_count": null,
   "id": "24d17d82-0079-4b55-b5ea-6f96baf2b4d4",
   "metadata": {},
   "outputs": [],
   "source": [
    "rate.sleep()"
   ]
  },
  {
   "cell_type": "markdown",
   "id": "477fa6dc-525e-4e29-b32e-81e73a3f1f83",
   "metadata": {},
   "source": [
    "## Example: How to use rotation"
   ]
  },
  {
   "cell_type": "code",
   "execution_count": null,
   "id": "4bffb40f-8d55-4c8a-a6fb-428df50ddae4",
   "metadata": {
    "tags": []
   },
   "outputs": [],
   "source": [
    "from tf.transformations import euler_matrix, quaternion_from_matrix, rotation_from_matrix, euler_from_matrix"
   ]
  },
  {
   "cell_type": "code",
   "execution_count": null,
   "id": "fbcd4a25-f53c-4711-921b-1b42eadd89a0",
   "metadata": {
    "tags": []
   },
   "outputs": [],
   "source": [
    "# Standard rotation\n",
    "r = euler_matrix(0,0,0)"
   ]
  },
  {
   "cell_type": "code",
   "execution_count": null,
   "id": "453a32cb-d243-46f7-a75a-477d4e896764",
   "metadata": {
    "tags": []
   },
   "outputs": [],
   "source": [
    "# All rotations are represented as matrices underneath.\n",
    "r"
   ]
  },
  {
   "cell_type": "code",
   "execution_count": null,
   "id": "f61f0f42-b45d-40e9-95a8-f08e52a041e5",
   "metadata": {
    "tags": []
   },
   "outputs": [],
   "source": [
    "# Quaternion\n",
    "quaternion_from_matrix(r)"
   ]
  },
  {
   "cell_type": "code",
   "execution_count": null,
   "id": "13b04d55-b803-4835-9da2-30269207a165",
   "metadata": {
    "tags": []
   },
   "outputs": [],
   "source": [
    "# Angle Rotations\n",
    "angle, _, _ = rotation_from_matrix(r)\n",
    "angle"
   ]
  },
  {
   "cell_type": "code",
   "execution_count": null,
   "id": "bfc87999-50c6-4576-a1c5-3f574361fdc2",
   "metadata": {
    "tags": []
   },
   "outputs": [],
   "source": [
    "# Euler Angle\n",
    "euler_from_matrix(r)"
   ]
  },
  {
   "cell_type": "code",
   "execution_count": null,
   "id": "4a25b1f5-d676-445d-ae8f-16839fac72e1",
   "metadata": {
    "tags": []
   },
   "outputs": [],
   "source": [
    "import numpy as np"
   ]
  },
  {
   "cell_type": "code",
   "execution_count": null,
   "id": "ac4f8432-b0dd-4198-b858-de25d21fe297",
   "metadata": {
    "tags": []
   },
   "outputs": [],
   "source": [
    "r = euler_matrix(np.pi,0,0)"
   ]
  },
  {
   "cell_type": "code",
   "execution_count": null,
   "id": "dfb35b3b-6d8e-4bff-b6ee-1a20c2744e72",
   "metadata": {
    "tags": []
   },
   "outputs": [],
   "source": [
    "q = quaternion_from_matrix(r)"
   ]
  },
  {
   "cell_type": "code",
   "execution_count": null,
   "id": "b901f4ec-4045-47ba-b530-b5fd2cfb7483",
   "metadata": {
    "tags": []
   },
   "outputs": [],
   "source": [
    "ax, ay, az, w = q"
   ]
  },
  {
   "cell_type": "code",
   "execution_count": null,
   "id": "98d6e847-65a4-4560-a163-6faa17d5e8e3",
   "metadata": {
    "tags": []
   },
   "outputs": [],
   "source": [
    "marker.pose.orientation.x = ax\n",
    "marker.pose.orientation.y = ay\n",
    "marker.pose.orientation.z = az\n",
    "marker.pose.orientation.w = w"
   ]
  },
  {
   "cell_type": "code",
   "execution_count": null,
   "id": "c205b042-10c7-4590-802c-5e101224a223",
   "metadata": {
    "tags": []
   },
   "outputs": [],
   "source": [
    "marker.id = 105"
   ]
  },
  {
   "cell_type": "code",
   "execution_count": null,
   "id": "459eab2f-8634-45ca-aae7-43bdffeb5e1a",
   "metadata": {
    "tags": []
   },
   "outputs": [],
   "source": [
    "marker_pub.publish(marker)"
   ]
  },
  {
   "cell_type": "code",
   "execution_count": null,
   "id": "90bf0860-6f6a-48d9-b98d-6cbfd1fb6a7a",
   "metadata": {
    "tags": []
   },
   "outputs": [],
   "source": [
    "import time"
   ]
  },
  {
   "cell_type": "code",
   "execution_count": null,
   "id": "1cd818fc-9228-4488-920c-e94fe2bd3735",
   "metadata": {
    "tags": []
   },
   "outputs": [],
   "source": [
    "splits = 10\n",
    "bow_split = np.pi / splits\n",
    "\n",
    "for i in range(0, splits * 2):\n",
    "    r = euler_matrix(0, bow_split * i, 0)\n",
    "    ax, ay, az, w = quaternion_from_matrix(r)\n",
    "    marker.pose.orientation.x = ax\n",
    "    marker.pose.orientation.y = ay\n",
    "    marker.pose.orientation.z = az\n",
    "    marker.pose.orientation.w = w\n",
    "    marker.id = 100 + i\n",
    "    marker_pub.publish(marker)\n",
    "    rate.sleep()"
   ]
  },
  {
   "cell_type": "markdown",
   "id": "855821ff-6125-4320-9e48-914a230ae690",
   "metadata": {
    "tags": []
   },
   "source": [
    "# Tasks"
   ]
  },
  {
   "cell_type": "markdown",
   "id": "93ac4281-cc0c-43a3-b162-c893eaa337d2",
   "metadata": {
    "tags": []
   },
   "source": [
    "## Task 1\n",
    "\n",
    "After you have configured Rvizweb, save the settings on your local machine. This will save you time the next time you configure Rvizweb. \n",
    "Additionally, paste your source code here:\n",
    "    \n",
    "```bash\n",
    "## Your config goes here:\n",
    "# TODO\n",
    "```\n",
    "\n",
    "Whenever markers do not load properly, try removing and reinserting the marker display. If this doesn´t work, try refreshing Rvizweb and reinserting your config. "
   ]
  },
  {
   "attachments": {
    "02cbeaf5-f97c-44b1-b883-7f58f2fcc7cb.png": {
     "image/png": "[encoded data removed]"
    }
   },
   "cell_type": "markdown",
   "id": "fff62da3-0148-40c5-9668-1c977deb2ca9",
   "metadata": {
    "tags": []
   },
   "source": [
    "## Task 2\n",
    "\n",
    "Below you can see an example of a turtle. Use primitive shapes to build up the shape of the turtle. The color of the turtles should be randomized and the marker IDs should be generated by the method `id_generator`. Your code should be running without executing the given examples at the top.\n",
    "\n",
    "![turtle.png](attachment:02cbeaf5-f97c-44b1-b883-7f58f2fcc7cb.png)"
   ]
  },
  {
   "cell_type": "code",
   "execution_count": null,
   "id": "261c5062-f3a6-48f1-9546-c7fc3ac97c1d",
   "metadata": {
    "tags": []
   },
   "outputs": [],
   "source": [
    "# Your code\n",
    "import rospy\n",
    "from visualization_msgs.msg import Marker, MarkerArray\n",
    "import geometry_msgs.msg\n",
    "import std_msgs.msg\n",
    "import tf.transformations as tf\n",
    "\n",
    "\n",
    "rospy.init_node('rviz_marker')\n",
    "rate = rospy.Rate(5)\n",
    "markerArray_pub = rospy.Publisher(\"/visualization_marker_array\", MarkerArray, queue_size = 2)\n",
    "\n",
    "def create(frame = \"\", id = 0) -> Marker:\n",
    "    \"\"\"Helper function that set the values of a Marker and returns it. You have to add more method parameters like type, scale, color and pose.\n",
    "   \"\"\"\n",
    "    # TODO\n",
    "    pass\n",
    "        \n",
    "def id_generator(id):\n",
    "    \"\"\"Generates id`s and returns them one after another.\n",
    "   \"\"\"\n",
    "    # TODO\n",
    "    pass\n",
    "\n",
    "def createTurtle(turtle, id = 0) -> MarkerArray:\n",
    "    \"\"\"Build the whole turtle (see picture) and returns it as a MarkerArray. The `id` is the starting value. It should be incremented.\n",
    "   \"\"\"\n",
    "    next_id = id_generator(id)\n",
    "    # next(next_id)\n",
    "    \n",
    "    # TODO\n",
    "    pass"
   ]
  },
  {
   "cell_type": "code",
   "execution_count": null,
   "id": "83785d42-87b6-4c83-96a7-3ac199f2d5cb",
   "metadata": {
    "tags": []
   },
   "outputs": [],
   "source": [
    "turtle1 = createTurtle(\"turtle1\", 100)\n",
    "markerArray_pub.publish(turtle1)\n",
    "rate.sleep()"
   ]
  },
  {
   "cell_type": "code",
   "execution_count": null,
   "id": "a017366f-e976-490e-9a09-dc5e52e9279a",
   "metadata": {},
   "outputs": [],
   "source": [
    "turtle2 = createTurtle(\"turtle2\", 200)\n",
    "markerArray_pub.publish(turtle2)\n",
    "rate.sleep()"
   ]
  },
  {
   "cell_type": "markdown",
   "id": "8b86b175-eee1-4e1e-ad48-3904085efed1",
   "metadata": {},
   "source": [
    "## Task 3\n",
    "\n",
    "Visualize the path that `/turtle1` has taken by spawning markers on its position. The markers should be removed after 3 seconds. So only the last 3 seconds of the path are visualized.\n",
    "\n",
    "The subscriber is already given. Insert your code into the `callback(msg)` function."
   ]
  },
  {
   "cell_type": "code",
   "execution_count": null,
   "id": "02fc0828-c3ce-4e43-907f-4f80b6f1a4f2",
   "metadata": {
    "tags": []
   },
   "outputs": [],
   "source": [
    "import rospy\n",
    "from geometry_msgs.msg import Pose\n",
    "\n",
    "def callback(msg):\n",
    "    \"\"\"Called then a new pose of turtle1 is published. Publishe a SPEHER marker on the position of the turtle.\n",
    "   \"\"\"\n",
    "    # TODO\n",
    "    pass\n",
    "\n",
    "turtle_sub = rospy.Subscriber('/turtle1/pose', Pose, callback)\n",
    "rospy.spin()"
   ]
  }
 ],
 "metadata": {
  "kernelspec": {
   "display_name": "Python 3 (ipykernel)",
   "language": "python",
   "name": "python3"
  },
  "language_info": {
   "codemirror_mode": {
    "name": "ipython",
    "version": 3
   },
   "file_extension": ".py",
   "mimetype": "text/x-python",
   "name": "python",
   "nbconvert_exporter": "python",
   "pygments_lexer": "ipython3",
   "version": "3.10.6"
  }
 },
 "nbformat": 4,
 "nbformat_minor": 5
}
